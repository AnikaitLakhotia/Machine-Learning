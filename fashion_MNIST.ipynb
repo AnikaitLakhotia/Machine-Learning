{
  "nbformat": 4,
  "nbformat_minor": 0,
  "metadata": {
    "colab": {
      "provenance": [],
      "authorship_tag": "ABX9TyPunmkx922LG2lbSfvc1ioW",
      "include_colab_link": true
    },
    "kernelspec": {
      "name": "python3",
      "display_name": "Python 3"
    },
    "language_info": {
      "name": "python"
    },
    "accelerator": "GPU",
    "gpuClass": "standard"
  },
  "cells": [
    {
      "cell_type": "markdown",
      "metadata": {
        "id": "view-in-github",
        "colab_type": "text"
      },
      "source": [
        "<a href=\"https://colab.research.google.com/github/AnikaitLakhotia/Machine-Learning/blob/main/fashion_MNIST.ipynb\" target=\"_parent\"><img src=\"https://colab.research.google.com/assets/colab-badge.svg\" alt=\"Open In Colab\"/></a>"
      ]
    },
    {
      "cell_type": "code",
      "execution_count": null,
      "metadata": {
        "id": "aoZlTVTTBs4-"
      },
      "outputs": [],
      "source": [
        "# Imports\n",
        "import numpy as np\n",
        "import pandas as pd\n",
        "import tensorflow as tf\n",
        "from tensorflow import keras\n",
        "from matplotlib import pyplot as plt\n",
        "import os\n",
        "from tensorflow.keras.preprocessing.image import ImageDataGenerator\n",
        "from tensorflow.keras import layers"
      ]
    },
    {
      "cell_type": "code",
      "source": [
        "# Load data\n",
        "fashion_mnist = keras.datasets.fashion_mnist\n",
        "(x_train_full, y_train_full), (x_test, y_test) = fashion_mnist.load_data()"
      ],
      "metadata": {
        "id": "C8MqO2C1B0I7",
        "colab": {
          "base_uri": "https://localhost:8080/"
        },
        "outputId": "96a382a4-bebe-4199-97bb-f20948d98ebe"
      },
      "execution_count": null,
      "outputs": [
        {
          "output_type": "stream",
          "name": "stdout",
          "text": [
            "Downloading data from https://storage.googleapis.com/tensorflow/tf-keras-datasets/train-labels-idx1-ubyte.gz\n",
            "29515/29515 [==============================] - 0s 0us/step\n",
            "Downloading data from https://storage.googleapis.com/tensorflow/tf-keras-datasets/train-images-idx3-ubyte.gz\n",
            "26421880/26421880 [==============================] - 2s 0us/step\n",
            "Downloading data from https://storage.googleapis.com/tensorflow/tf-keras-datasets/t10k-labels-idx1-ubyte.gz\n",
            "5148/5148 [==============================] - 0s 0us/step\n",
            "Downloading data from https://storage.googleapis.com/tensorflow/tf-keras-datasets/t10k-images-idx3-ubyte.gz\n",
            "4422102/4422102 [==============================] - 0s 0us/step\n"
          ]
        }
      ]
    },
    {
      "cell_type": "code",
      "source": [
        "# Separate and reshape training and validation sets\n",
        "x_valid1, x_train1 = x_train_full[:10000]/255.0 , x_train_full[10000:]/255.0\n",
        "y_valid, y_train = y_train_full[:10000], y_train_full[10000:]\n",
        "x_train = x_train1.reshape(50000,28,28,1)\n",
        "x_valid = x_valid1.reshape(10000,28,28,1)"
      ],
      "metadata": {
        "id": "4mZrQyRvDAnR"
      },
      "execution_count": null,
      "outputs": []
    },
    {
      "cell_type": "code",
      "source": [
        "# Data Augmentation\n",
        "data_augmentation = tf.keras.Sequential([\n",
        "  layers.RandomFlip(\"horizontal_and_vertical\"),\n",
        "  layers.RandomRotation(0.2),\n",
        "])"
      ],
      "metadata": {
        "id": "z_3rrj_sNsAX"
      },
      "execution_count": null,
      "outputs": []
    },
    {
      "cell_type": "code",
      "source": [
        "# Callbacks\n",
        "early_stopping_cb = keras.callbacks.EarlyStopping(patience=20,\n",
        " restore_best_weights=True)\n",
        "\n",
        "ReduceOnPlateau = keras.callbacks.ReduceLROnPlateau(\n",
        "monitor='val_loss',\n",
        "factor=0.1,\n",
        "patience=10,\n",
        ")\n",
        "\n",
        "root_logdir = os.path.join(os.curdir, \"my_logs2\")\n",
        "def get_run_logdir():\n",
        " import time\n",
        " run_id = time.strftime(\"run_%Y_%m_%d-%H_%M_%S\")\n",
        " return os.path.join(root_logdir, run_id)\n",
        "run_logdir = get_run_logdir()\n",
        "tensorboard_cb = keras.callbacks.TensorBoard(run_logdir)"
      ],
      "metadata": {
        "id": "spfZAF_nDEMi"
      },
      "execution_count": null,
      "outputs": []
    },
    {
      "cell_type": "code",
      "source": [
        "# Model architecture\n",
        "from functools import partial\n",
        "DefaultConv2D = partial(keras.layers.Conv2D,\n",
        " kernel_size=3, activation='relu', padding=\"SAME\",kernel_initializer=\"he_normal\",\n",
        " kernel_regularizer=keras.regularizers.l2(0.01))\n",
        "model = keras.models.Sequential([\n",
        " DefaultConv2D(filters=64, kernel_size=7, input_shape=[28,28,1]),\n",
        " layers.BatchNormalization(),\n",
        " keras.layers.MaxPooling2D(pool_size=2),\n",
        " DefaultConv2D(filters=128),\n",
        " layers.BatchNormalization(),\n",
        " DefaultConv2D(filters=128),\n",
        " layers.BatchNormalization(),\n",
        " keras.layers.MaxPooling2D(pool_size=2),\n",
        " DefaultConv2D(filters=256),\n",
        " layers.BatchNormalization(),\n",
        " DefaultConv2D(filters=256),\n",
        " layers.BatchNormalization(),\n",
        "DefaultConv2D(filters=512),\n",
        " layers.BatchNormalization(),\n",
        " DefaultConv2D(filters=512),\n",
        " layers.BatchNormalization(),\n",
        " keras.layers.MaxPooling2D(pool_size=2),\n",
        " keras.layers.Flatten(),\n",
        " keras.layers.Dense(units=128, activation='relu'),\n",
        " layers.BatchNormalization(),\n",
        " keras.layers.Dropout(0.5),\n",
        " keras.layers.Dense(units=64, activation='relu'),\n",
        " layers.BatchNormalization(),\n",
        " keras.layers.Dropout(0.5),\n",
        " keras.layers.Dense(units=10, activation='softmax'),\n",
        "])"
      ],
      "metadata": {
        "id": "wiBMTSZEDcNV"
      },
      "execution_count": null,
      "outputs": []
    },
    {
      "cell_type": "code",
      "source": [
        "# Model Compilation\n",
        "model.compile(loss=\"sparse_categorical_crossentropy\",\n",
        " optimizer=\"sgd\",\n",
        " metrics=[\"accuracy\"])"
      ],
      "metadata": {
        "id": "PKju7hCQDcYR"
      },
      "execution_count": null,
      "outputs": []
    },
    {
      "cell_type": "code",
      "source": [
        "# Model Training\n",
        "history = model.fit(x_train, y_train, epochs=1000,\n",
        " validation_data=(x_valid, y_valid),\n",
        " callbacks=[tensorboard_cb,early_stopping_cb,ReduceOnPlateau])"
      ],
      "metadata": {
        "colab": {
          "base_uri": "https://localhost:8080/"
        },
        "id": "Rck9gq7fDmHF",
        "outputId": "3c5a45b3-619a-4a24-e8cc-0bcb05c9291d"
      },
      "execution_count": null,
      "outputs": [
        {
          "output_type": "stream",
          "name": "stdout",
          "text": [
            "Epoch 1/1000\n",
            "1563/1563 [==============================] - 28s 17ms/step - loss: 28.4778 - accuracy: 0.7639 - val_loss: 20.4076 - val_accuracy: 0.8677 - lr: 0.0100\n",
            "Epoch 2/1000\n",
            "1563/1563 [==============================] - 26s 17ms/step - loss: 15.4053 - accuracy: 0.8508 - val_loss: 11.1330 - val_accuracy: 0.8878 - lr: 0.0100\n",
            "Epoch 3/1000\n",
            "1563/1563 [==============================] - 27s 17ms/step - loss: 8.4895 - accuracy: 0.8696 - val_loss: 6.2089 - val_accuracy: 0.8831 - lr: 0.0100\n",
            "Epoch 4/1000\n",
            "1563/1563 [==============================] - 26s 17ms/step - loss: 4.7922 - accuracy: 0.8821 - val_loss: 3.5314 - val_accuracy: 0.9019 - lr: 0.0100\n",
            "Epoch 5/1000\n",
            "1563/1563 [==============================] - 27s 17ms/step - loss: 2.8126 - accuracy: 0.8873 - val_loss: 2.2027 - val_accuracy: 0.8665 - lr: 0.0100\n",
            "Epoch 6/1000\n",
            "1563/1563 [==============================] - 27s 17ms/step - loss: 1.7622 - accuracy: 0.8912 - val_loss: 1.4414 - val_accuracy: 0.8704 - lr: 0.0100\n",
            "Epoch 7/1000\n",
            "1563/1563 [==============================] - 26s 17ms/step - loss: 1.1873 - accuracy: 0.8945 - val_loss: 0.9799 - val_accuracy: 0.8919 - lr: 0.0100\n",
            "Epoch 8/1000\n",
            "1563/1563 [==============================] - 26s 16ms/step - loss: 0.8797 - accuracy: 0.8959 - val_loss: 0.7781 - val_accuracy: 0.8883 - lr: 0.0100\n",
            "Epoch 9/1000\n",
            "1563/1563 [==============================] - 26s 17ms/step - loss: 0.7051 - accuracy: 0.9002 - val_loss: 0.6271 - val_accuracy: 0.9025 - lr: 0.0100\n",
            "Epoch 10/1000\n",
            "1563/1563 [==============================] - 26s 16ms/step - loss: 0.6097 - accuracy: 0.9019 - val_loss: 0.6855 - val_accuracy: 0.8651 - lr: 0.0100\n",
            "Epoch 11/1000\n",
            "1563/1563 [==============================] - 26s 16ms/step - loss: 0.5612 - accuracy: 0.9030 - val_loss: 0.8836 - val_accuracy: 0.7777 - lr: 0.0100\n",
            "Epoch 12/1000\n",
            "1563/1563 [==============================] - 26s 16ms/step - loss: 0.5296 - accuracy: 0.9038 - val_loss: 0.5457 - val_accuracy: 0.8860 - lr: 0.0100\n",
            "Epoch 13/1000\n",
            "1563/1563 [==============================] - 26s 17ms/step - loss: 0.5063 - accuracy: 0.9077 - val_loss: 0.4939 - val_accuracy: 0.9050 - lr: 0.0100\n",
            "Epoch 14/1000\n",
            "1563/1563 [==============================] - 26s 16ms/step - loss: 0.4947 - accuracy: 0.9093 - val_loss: 0.5599 - val_accuracy: 0.8759 - lr: 0.0100\n",
            "Epoch 15/1000\n",
            "1563/1563 [==============================] - 26s 16ms/step - loss: 0.4875 - accuracy: 0.9111 - val_loss: 0.4775 - val_accuracy: 0.9052 - lr: 0.0100\n",
            "Epoch 16/1000\n",
            "1563/1563 [==============================] - 27s 17ms/step - loss: 0.4834 - accuracy: 0.9102 - val_loss: 0.4753 - val_accuracy: 0.9074 - lr: 0.0100\n",
            "Epoch 17/1000\n",
            "1563/1563 [==============================] - 27s 17ms/step - loss: 0.4790 - accuracy: 0.9118 - val_loss: 0.4508 - val_accuracy: 0.9134 - lr: 0.0100\n",
            "Epoch 18/1000\n",
            "1563/1563 [==============================] - 26s 17ms/step - loss: 0.4769 - accuracy: 0.9128 - val_loss: 0.5121 - val_accuracy: 0.8971 - lr: 0.0100\n",
            "Epoch 19/1000\n",
            "1563/1563 [==============================] - 28s 18ms/step - loss: 0.4768 - accuracy: 0.9126 - val_loss: 0.4592 - val_accuracy: 0.9123 - lr: 0.0100\n",
            "Epoch 20/1000\n",
            "1563/1563 [==============================] - 26s 17ms/step - loss: 0.4822 - accuracy: 0.9117 - val_loss: 0.5062 - val_accuracy: 0.8967 - lr: 0.0100\n",
            "Epoch 21/1000\n",
            "1563/1563 [==============================] - 26s 17ms/step - loss: 0.4787 - accuracy: 0.9146 - val_loss: 0.5919 - val_accuracy: 0.8652 - lr: 0.0100\n",
            "Epoch 22/1000\n",
            "1563/1563 [==============================] - 26s 16ms/step - loss: 0.4819 - accuracy: 0.9125 - val_loss: 0.4723 - val_accuracy: 0.9090 - lr: 0.0100\n",
            "Epoch 23/1000\n",
            "1563/1563 [==============================] - 26s 16ms/step - loss: 0.4707 - accuracy: 0.9173 - val_loss: 0.4538 - val_accuracy: 0.9142 - lr: 0.0100\n",
            "Epoch 24/1000\n",
            "1563/1563 [==============================] - 27s 17ms/step - loss: 0.4754 - accuracy: 0.9147 - val_loss: 0.4783 - val_accuracy: 0.9130 - lr: 0.0100\n",
            "Epoch 25/1000\n",
            "1563/1563 [==============================] - 26s 16ms/step - loss: 0.4717 - accuracy: 0.9169 - val_loss: 0.4621 - val_accuracy: 0.9129 - lr: 0.0100\n",
            "Epoch 26/1000\n",
            "1563/1563 [==============================] - 27s 17ms/step - loss: 0.4703 - accuracy: 0.9176 - val_loss: 0.4723 - val_accuracy: 0.9156 - lr: 0.0100\n",
            "Epoch 27/1000\n",
            "1563/1563 [==============================] - 26s 17ms/step - loss: 0.4646 - accuracy: 0.9186 - val_loss: 0.5107 - val_accuracy: 0.9033 - lr: 0.0100\n",
            "Epoch 28/1000\n",
            "1563/1563 [==============================] - 26s 17ms/step - loss: 0.3952 - accuracy: 0.9435 - val_loss: 0.3999 - val_accuracy: 0.9350 - lr: 1.0000e-03\n",
            "Epoch 29/1000\n",
            "1563/1563 [==============================] - 27s 17ms/step - loss: 0.3479 - accuracy: 0.9559 - val_loss: 0.3842 - val_accuracy: 0.9372 - lr: 1.0000e-03\n",
            "Epoch 30/1000\n",
            "1563/1563 [==============================] - 26s 16ms/step - loss: 0.3171 - accuracy: 0.9639 - val_loss: 0.3785 - val_accuracy: 0.9381 - lr: 1.0000e-03\n",
            "Epoch 31/1000\n",
            "1563/1563 [==============================] - 27s 17ms/step - loss: 0.2874 - accuracy: 0.9698 - val_loss: 0.3721 - val_accuracy: 0.9363 - lr: 1.0000e-03\n",
            "Epoch 32/1000\n",
            "1563/1563 [==============================] - 27s 17ms/step - loss: 0.2649 - accuracy: 0.9748 - val_loss: 0.3725 - val_accuracy: 0.9369 - lr: 1.0000e-03\n",
            "Epoch 33/1000\n",
            "1563/1563 [==============================] - 26s 16ms/step - loss: 0.2443 - accuracy: 0.9785 - val_loss: 0.3719 - val_accuracy: 0.9349 - lr: 1.0000e-03\n",
            "Epoch 34/1000\n",
            "1563/1563 [==============================] - 27s 17ms/step - loss: 0.2239 - accuracy: 0.9832 - val_loss: 0.3858 - val_accuracy: 0.9330 - lr: 1.0000e-03\n",
            "Epoch 35/1000\n",
            "1563/1563 [==============================] - 27s 17ms/step - loss: 0.2103 - accuracy: 0.9851 - val_loss: 0.4148 - val_accuracy: 0.9221 - lr: 1.0000e-03\n",
            "Epoch 36/1000\n",
            "1563/1563 [==============================] - 27s 17ms/step - loss: 0.1973 - accuracy: 0.9869 - val_loss: 0.3994 - val_accuracy: 0.9265 - lr: 1.0000e-03\n",
            "Epoch 37/1000\n",
            "1563/1563 [==============================] - 27s 17ms/step - loss: 0.1873 - accuracy: 0.9885 - val_loss: 0.3951 - val_accuracy: 0.9288 - lr: 1.0000e-03\n",
            "Epoch 38/1000\n",
            "1563/1563 [==============================] - 26s 17ms/step - loss: 0.1765 - accuracy: 0.9901 - val_loss: 0.4227 - val_accuracy: 0.9250 - lr: 1.0000e-03\n",
            "Epoch 39/1000\n",
            "1563/1563 [==============================] - 27s 17ms/step - loss: 0.1689 - accuracy: 0.9909 - val_loss: 0.3887 - val_accuracy: 0.9312 - lr: 1.0000e-03\n",
            "Epoch 40/1000\n",
            "1563/1563 [==============================] - 27s 17ms/step - loss: 0.1682 - accuracy: 0.9898 - val_loss: 0.4022 - val_accuracy: 0.9303 - lr: 1.0000e-03\n",
            "Epoch 41/1000\n",
            "1563/1563 [==============================] - 27s 17ms/step - loss: 0.1575 - accuracy: 0.9917 - val_loss: 0.4100 - val_accuracy: 0.9239 - lr: 1.0000e-03\n",
            "Epoch 42/1000\n",
            "1563/1563 [==============================] - 27s 17ms/step - loss: 0.1625 - accuracy: 0.9890 - val_loss: 0.4226 - val_accuracy: 0.9249 - lr: 1.0000e-03\n",
            "Epoch 43/1000\n",
            "1563/1563 [==============================] - 27s 17ms/step - loss: 0.1555 - accuracy: 0.9906 - val_loss: 0.4234 - val_accuracy: 0.9248 - lr: 1.0000e-03\n",
            "Epoch 44/1000\n",
            "1563/1563 [==============================] - 26s 16ms/step - loss: 0.1388 - accuracy: 0.9959 - val_loss: 0.3826 - val_accuracy: 0.9345 - lr: 1.0000e-04\n",
            "Epoch 45/1000\n",
            "1563/1563 [==============================] - 26s 16ms/step - loss: 0.1315 - accuracy: 0.9984 - val_loss: 0.3815 - val_accuracy: 0.9353 - lr: 1.0000e-04\n",
            "Epoch 46/1000\n",
            "1563/1563 [==============================] - 26s 17ms/step - loss: 0.1287 - accuracy: 0.9990 - val_loss: 0.3796 - val_accuracy: 0.9349 - lr: 1.0000e-04\n",
            "Epoch 47/1000\n",
            "1563/1563 [==============================] - 27s 17ms/step - loss: 0.1273 - accuracy: 0.9992 - val_loss: 0.3795 - val_accuracy: 0.9342 - lr: 1.0000e-04\n",
            "Epoch 48/1000\n",
            "1563/1563 [==============================] - 26s 16ms/step - loss: 0.1260 - accuracy: 0.9993 - val_loss: 0.3807 - val_accuracy: 0.9353 - lr: 1.0000e-04\n",
            "Epoch 49/1000\n",
            "1563/1563 [==============================] - 27s 17ms/step - loss: 0.1251 - accuracy: 0.9993 - val_loss: 0.3818 - val_accuracy: 0.9350 - lr: 1.0000e-04\n",
            "Epoch 50/1000\n",
            "1563/1563 [==============================] - 26s 16ms/step - loss: 0.1234 - accuracy: 0.9996 - val_loss: 0.3807 - val_accuracy: 0.9347 - lr: 1.0000e-04\n",
            "Epoch 51/1000\n",
            "1563/1563 [==============================] - 26s 16ms/step - loss: 0.1222 - accuracy: 0.9997 - val_loss: 0.3798 - val_accuracy: 0.9347 - lr: 1.0000e-04\n",
            "Epoch 52/1000\n",
            "1563/1563 [==============================] - 26s 16ms/step - loss: 0.1212 - accuracy: 0.9998 - val_loss: 0.3784 - val_accuracy: 0.9352 - lr: 1.0000e-04\n",
            "Epoch 53/1000\n",
            "1563/1563 [==============================] - 27s 17ms/step - loss: 0.1204 - accuracy: 0.9998 - val_loss: 0.3793 - val_accuracy: 0.9359 - lr: 1.0000e-04\n"
          ]
        }
      ]
    },
    {
      "cell_type": "code",
      "source": [
        "# Plot Metrics\n",
        "import pandas as pd\n",
        "pd.DataFrame(history.history).plot(figsize=(8, 5))\n",
        "plt.grid(True)\n",
        "plt.gca().set_ylim(0, 1.5) # set the vertical range to [0-1]\n",
        "plt.show()"
      ],
      "metadata": {
        "id": "gMl0JCuqDtJJ",
        "colab": {
          "base_uri": "https://localhost:8080/",
          "height": 320
        },
        "outputId": "8a3deeb1-d51a-4959-9bda-13ed536aa7ce"
      },
      "execution_count": null,
      "outputs": [
        {
          "output_type": "display_data",
          "data": {
            "text/plain": [
              "<Figure size 576x360 with 1 Axes>"
            ],
            "image/png": "[encoded data removed]"
          },
          "metadata": {
            "needs_background": "light"
          }
        }
      ]
    }
  ]
}