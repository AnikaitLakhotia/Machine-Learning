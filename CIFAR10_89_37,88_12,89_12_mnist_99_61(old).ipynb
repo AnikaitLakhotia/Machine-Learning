{
  "nbformat": 4,
  "nbformat_minor": 0,
  "metadata": {
    "colab": {
      "provenance": [],
      "authorship_tag": "ABX9TyMPfS6uf4LsatH9S4oHY1Hd",
      "include_colab_link": true
    },
    "kernelspec": {
      "name": "python3",
      "display_name": "Python 3"
    },
    "language_info": {
      "name": "python"
    },
    "accelerator": "GPU",
    "gpuClass": "standard"
  },
  "cells": [
    {
      "cell_type": "markdown",
      "metadata": {
        "id": "view-in-github",
        "colab_type": "text"
      },
      "source": [
        "<a href=\"https://colab.research.google.com/github/AnikaitLakhotia/Machine-Learning/blob/main/CIFAR10_89_37%2C88_12%2C89_12_mnist_99_61(old).ipynb\" target=\"_parent\"><img src=\"https://colab.research.google.com/assets/colab-badge.svg\" alt=\"Open In Colab\"/></a>"
      ]
    },
    {
      "cell_type": "code",
      "execution_count": 1,
      "metadata": {
        "id": "Yzo-Lvao_Ll8"
      },
      "outputs": [],
      "source": [
        "import numpy as np\n",
        "import pandas as pd\n",
        "import tensorflow as tf\n",
        "from tensorflow import keras\n",
        "from matplotlib import pyplot as plt\n",
        "import os\n",
        "from tensorflow.keras.preprocessing.image import ImageDataGenerator\n",
        "from tensorflow.keras import layers"
      ]
    },
    {
      "cell_type": "code",
      "source": [
        "cifar10 = keras.datasets.cifar10\n",
        "(x_train_full, y_train_full), (x_test, y_test) = cifar10.load_data()"
      ],
      "metadata": {
        "id": "TrCaEqz6_YHW"
      },
      "execution_count": 2,
      "outputs": []
    },
    {
      "cell_type": "code",
      "source": [
        "x_valid, x_train = x_train_full[:10000]/255.0 , x_train_full[10000:]/255.0\n",
        "y_valid, y_train = y_train_full[:10000], y_train_full[10000:]"
      ],
      "metadata": {
        "id": "fnIgVT72_a5b"
      },
      "execution_count": 3,
      "outputs": []
    },
    {
      "cell_type": "code",
      "source": [
        "class_names = ['airplane','automobile','bird','cat','deer','dog','frog','horse','ship','truck']"
      ],
      "metadata": {
        "id": "Gzvfv3FX_dv1"
      },
      "execution_count": 4,
      "outputs": []
    },
    {
      "cell_type": "code",
      "source": [
        "width_shift = 3/32\n",
        "height_shift = 3/32\n",
        "flip = True\n",
        "\n",
        "datagen = ImageDataGenerator(\n",
        "    horizontal_flip=flip,\n",
        "    width_shift_range=width_shift,\n",
        "    height_shift_range=height_shift,\n",
        "    )\n",
        "datagen.fit(x_train)"
      ],
      "metadata": {
        "id": "pIgPU4EJRWGO"
      },
      "execution_count": 5,
      "outputs": []
    },
    {
      "cell_type": "code",
      "source": [
        "early_stopping_cb = keras.callbacks.EarlyStopping(patience=20,\n",
        " restore_best_weights=True)\n",
        "\n",
        "ReduceOnPlateau = keras.callbacks.ReduceLROnPlateau(\n",
        "monitor='val_loss',\n",
        "factor=0.1,\n",
        "patience=10,\n",
        ")\n",
        "\n",
        "root_logdir = os.path.join(os.curdir, \"my_logs2\")\n",
        "def get_run_logdir():\n",
        " import time\n",
        " run_id = time.strftime(\"run_%Y_%m_%d-%H_%M_%S\")\n",
        " return os.path.join(root_logdir, run_id)\n",
        "run_logdir = get_run_logdir()\n",
        "tensorboard_cb = keras.callbacks.TensorBoard(run_logdir)"
      ],
      "metadata": {
        "id": "8Xy_zKuS_gdp"
      },
      "execution_count": 6,
      "outputs": []
    },
    {
      "cell_type": "code",
      "source": [
        "from functools import partial\n",
        "DefaultConv2D = partial(keras.layers.Conv2D,\n",
        " kernel_size=3, activation='relu', padding=\"SAME\",kernel_initializer=\"he_normal\",\n",
        " kernel_regularizer=keras.regularizers.l2(0.01))\n",
        "model = keras.models.Sequential([\n",
        " DefaultConv2D(filters=64, kernel_size=7, input_shape=[32, 32, 3]),\n",
        " layers.BatchNormalization(),\n",
        " keras.layers.MaxPooling2D(pool_size=2),\n",
        " DefaultConv2D(filters=128),\n",
        " layers.BatchNormalization(),\n",
        " DefaultConv2D(filters=128),\n",
        " layers.BatchNormalization(),\n",
        " keras.layers.MaxPooling2D(pool_size=2),\n",
        " DefaultConv2D(filters=256),\n",
        " layers.BatchNormalization(),\n",
        " DefaultConv2D(filters=256),\n",
        " layers.BatchNormalization(),\n",
        "DefaultConv2D(filters=512),\n",
        " layers.BatchNormalization(),\n",
        " DefaultConv2D(filters=512),\n",
        " layers.BatchNormalization(),\n",
        " keras.layers.MaxPooling2D(pool_size=2),\n",
        " keras.layers.Flatten(),\n",
        " keras.layers.Dense(units=128, activation='relu'),\n",
        " layers.BatchNormalization(),\n",
        " keras.layers.Dropout(0.5),\n",
        " keras.layers.Dense(units=64, activation='relu'),\n",
        " layers.BatchNormalization(),\n",
        " keras.layers.Dropout(0.5),\n",
        " keras.layers.Dense(units=10, activation='softmax'),\n",
        "])"
      ],
      "metadata": {
        "id": "hSRUJM8QHT40"
      },
      "execution_count": 7,
      "outputs": []
    },
    {
      "cell_type": "code",
      "source": [
        "model.compile(loss=\"sparse_categorical_crossentropy\",\n",
        " optimizer=\"sgd\",\n",
        " metrics=[\"accuracy\"])"
      ],
      "metadata": {
        "id": "dkOf8u4-_rHp"
      },
      "execution_count": 8,
      "outputs": []
    },
    {
      "cell_type": "code",
      "source": [
        "history = model.fit(x_train,y_train, epochs=1000,\n",
        " validation_data=(x_valid, y_valid),\n",
        " callbacks=[tensorboard_cb,early_stopping_cb,ReduceOnPlateau])"
      ],
      "metadata": {
        "colab": {
          "base_uri": "https://localhost:8080/"
        },
        "id": "0jGB_pmU_u0H",
        "outputId": "f31944ae-4597-4c83-97bf-8eda7e29c720"
      },
      "execution_count": null,
      "outputs": [
        {
          "output_type": "stream",
          "name": "stdout",
          "text": [
            "Epoch 1/1000\n",
            "1250/1250 [==============================] - 32s 18ms/step - loss: 31.3471 - accuracy: 0.3300 - val_loss: 24.1052 - val_accuracy: 0.4954 - lr: 0.0100\n",
            "Epoch 2/1000\n",
            "1250/1250 [==============================] - 21s 17ms/step - loss: 19.3859 - accuracy: 0.4707 - val_loss: 15.4530 - val_accuracy: 0.4297 - lr: 0.0100\n",
            "Epoch 3/1000\n",
            "1250/1250 [==============================] - 22s 18ms/step - loss: 12.2742 - accuracy: 0.5413 - val_loss: 9.8747 - val_accuracy: 0.5225 - lr: 0.0100\n",
            "Epoch 4/1000\n",
            " 698/1250 [===============>..............] - ETA: 8s - loss: 8.6622 - accuracy: 0.5860"
          ]
        }
      ]
    },
    {
      "cell_type": "code",
      "source": [
        "history = model.fit(datagen.flow(x_train, y_train, batch_size=32),\n",
        "         steps_per_epoch=len(x_train) // 32, epochs=80,validation_data=(x_valid, y_valid),\n",
        " callbacks=[tensorboard_cb,early_stopping_cb,ReduceOnPlateau])"
      ],
      "metadata": {
        "id": "pvzx2ARxUQU0"
      },
      "execution_count": null,
      "outputs": []
    },
    {
      "cell_type": "code",
      "source": [
        "import pandas as pd\n",
        "pd.DataFrame(history.history).plot(figsize=(8, 5))\n",
        "plt.grid(True)\n",
        "plt.gca().set_ylim(0, 1.5) # set the vertical range to [0-1]\n",
        "plt.show()"
      ],
      "metadata": {
        "id": "XlaLDaNbBTQe"
      },
      "execution_count": null,
      "outputs": []
    }
  ]
}